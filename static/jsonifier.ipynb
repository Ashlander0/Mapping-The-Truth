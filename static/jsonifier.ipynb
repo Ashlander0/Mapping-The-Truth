{
 "metadata": {
  "language_info": {
   "codemirror_mode": {
    "name": "ipython",
    "version": 3
   },
   "file_extension": ".py",
   "mimetype": "text/x-python",
   "name": "python",
   "nbconvert_exporter": "python",
   "pygments_lexer": "ipython3",
   "version": "3.6.10-final"
  },
  "orig_nbformat": 2,
  "kernelspec": {
   "name": "python3",
   "display_name": "Python 3",
   "language": "python"
  }
 },
 "nbformat": 4,
 "nbformat_minor": 2,
 "cells": [
  {
   "cell_type": "code",
   "execution_count": 12,
   "metadata": {},
   "outputs": [
    {
     "output_type": "execute_result",
     "data": {
      "text/plain": [
       "                                            observed  \\\n",
       "0  Ed L. was salmon fishing with a companion in P...   \n",
       "1  heh i kinda feel a little dumb that im reporti...   \n",
       "2  I was on my way to Claremont from Lebanon on R...   \n",
       "3  I was northeast of Macy Nebraska along the Mis...   \n",
       "4  While this incident occurred a long time ago, ...   \n",
       "\n",
       "                                    location_details  \\\n",
       "0                  East side of Prince William Sound   \n",
       "1  the road is off us rt 80, i dont know the exit...   \n",
       "2  Close to Claremont down 120 not far from Kings...   \n",
       "3      Latitude & Longitude :  42.158230  -96.344197   \n",
       "4  Ward County, Just outside of a the Minuteman T...   \n",
       "\n",
       "                           county          state  season  \\\n",
       "0  Valdez-Chitina-Whittier County         Alaska    Fall   \n",
       "1                   Warren County     New Jersey    Fall   \n",
       "2                 Sullivan County  New Hampshire  Summer   \n",
       "3                 Thurston County       Nebraska  Spring   \n",
       "4                     Ward County   North Dakota  Spring   \n",
       "\n",
       "                                               title  latitude  longitude  \\\n",
       "0                                                NaN       NaN        NaN   \n",
       "1                                                NaN       NaN        NaN   \n",
       "2  Report 55269: Dawn sighting at Stevens Brook o...  43.41549  -72.33093   \n",
       "3  Report 59757: Possible daylight sighting of a ...  42.15685  -96.34203   \n",
       "4  Report 751: Hunter describes described being s...  48.25422 -101.31660   \n",
       "\n",
       "         date   number  ... moon_phase precip_intensity  precip_probability  \\\n",
       "0         NaN   1261.0  ...        NaN              NaN                 NaN   \n",
       "1         NaN    438.0  ...        NaN              NaN                 NaN   \n",
       "2  2016-06-07  55269.0  ...       0.10            0.001                 0.7   \n",
       "3  2018-05-25  59757.0  ...       0.38            0.000                 0.0   \n",
       "4  2000-04-21    751.0  ...       0.60              NaN                 NaN   \n",
       "\n",
       "   precip_type  pressure                            summary  uv_index  \\\n",
       "0          NaN       NaN                                NaN       NaN   \n",
       "1          NaN       NaN                                NaN       NaN   \n",
       "2         rain    998.87  Mostly cloudy throughout the day.       6.0   \n",
       "3          NaN   1008.07      Partly cloudy in the morning.      10.0   \n",
       "4         rain   1011.47       Partly cloudy until evening.       6.0   \n",
       "\n",
       "   visibility  wind_bearing  wind_speed  \n",
       "0         NaN           NaN         NaN  \n",
       "1         NaN           NaN         NaN  \n",
       "2        9.70         262.0        0.49  \n",
       "3        8.25         193.0        3.33  \n",
       "4       10.00         237.0       11.14  \n",
       "\n",
       "[5 rows x 28 columns]"
      ],
      "text/html": "<div>\n<style scoped>\n    .dataframe tbody tr th:only-of-type {\n        vertical-align: middle;\n    }\n\n    .dataframe tbody tr th {\n        vertical-align: top;\n    }\n\n    .dataframe thead th {\n        text-align: right;\n    }\n</style>\n<table border=\"1\" class=\"dataframe\">\n  <thead>\n    <tr style=\"text-align: right;\">\n      <th></th>\n      <th>observed</th>\n      <th>location_details</th>\n      <th>county</th>\n      <th>state</th>\n      <th>season</th>\n      <th>title</th>\n      <th>latitude</th>\n      <th>longitude</th>\n      <th>date</th>\n      <th>number</th>\n      <th>...</th>\n      <th>moon_phase</th>\n      <th>precip_intensity</th>\n      <th>precip_probability</th>\n      <th>precip_type</th>\n      <th>pressure</th>\n      <th>summary</th>\n      <th>uv_index</th>\n      <th>visibility</th>\n      <th>wind_bearing</th>\n      <th>wind_speed</th>\n    </tr>\n  </thead>\n  <tbody>\n    <tr>\n      <th>0</th>\n      <td>Ed L. was salmon fishing with a companion in P...</td>\n      <td>East side of Prince William Sound</td>\n      <td>Valdez-Chitina-Whittier County</td>\n      <td>Alaska</td>\n      <td>Fall</td>\n      <td>NaN</td>\n      <td>NaN</td>\n      <td>NaN</td>\n      <td>NaN</td>\n      <td>1261.0</td>\n      <td>...</td>\n      <td>NaN</td>\n      <td>NaN</td>\n      <td>NaN</td>\n      <td>NaN</td>\n      <td>NaN</td>\n      <td>NaN</td>\n      <td>NaN</td>\n      <td>NaN</td>\n      <td>NaN</td>\n      <td>NaN</td>\n    </tr>\n    <tr>\n      <th>1</th>\n      <td>heh i kinda feel a little dumb that im reporti...</td>\n      <td>the road is off us rt 80, i dont know the exit...</td>\n      <td>Warren County</td>\n      <td>New Jersey</td>\n      <td>Fall</td>\n      <td>NaN</td>\n      <td>NaN</td>\n      <td>NaN</td>\n      <td>NaN</td>\n      <td>438.0</td>\n      <td>...</td>\n      <td>NaN</td>\n      <td>NaN</td>\n      <td>NaN</td>\n      <td>NaN</td>\n      <td>NaN</td>\n      <td>NaN</td>\n      <td>NaN</td>\n      <td>NaN</td>\n      <td>NaN</td>\n      <td>NaN</td>\n    </tr>\n    <tr>\n      <th>2</th>\n      <td>I was on my way to Claremont from Lebanon on R...</td>\n      <td>Close to Claremont down 120 not far from Kings...</td>\n      <td>Sullivan County</td>\n      <td>New Hampshire</td>\n      <td>Summer</td>\n      <td>Report 55269: Dawn sighting at Stevens Brook o...</td>\n      <td>43.41549</td>\n      <td>-72.33093</td>\n      <td>2016-06-07</td>\n      <td>55269.0</td>\n      <td>...</td>\n      <td>0.10</td>\n      <td>0.001</td>\n      <td>0.7</td>\n      <td>rain</td>\n      <td>998.87</td>\n      <td>Mostly cloudy throughout the day.</td>\n      <td>6.0</td>\n      <td>9.70</td>\n      <td>262.0</td>\n      <td>0.49</td>\n    </tr>\n    <tr>\n      <th>3</th>\n      <td>I was northeast of Macy Nebraska along the Mis...</td>\n      <td>Latitude &amp; Longitude :  42.158230  -96.344197</td>\n      <td>Thurston County</td>\n      <td>Nebraska</td>\n      <td>Spring</td>\n      <td>Report 59757: Possible daylight sighting of a ...</td>\n      <td>42.15685</td>\n      <td>-96.34203</td>\n      <td>2018-05-25</td>\n      <td>59757.0</td>\n      <td>...</td>\n      <td>0.38</td>\n      <td>0.000</td>\n      <td>0.0</td>\n      <td>NaN</td>\n      <td>1008.07</td>\n      <td>Partly cloudy in the morning.</td>\n      <td>10.0</td>\n      <td>8.25</td>\n      <td>193.0</td>\n      <td>3.33</td>\n    </tr>\n    <tr>\n      <th>4</th>\n      <td>While this incident occurred a long time ago, ...</td>\n      <td>Ward County, Just outside of a the Minuteman T...</td>\n      <td>Ward County</td>\n      <td>North Dakota</td>\n      <td>Spring</td>\n      <td>Report 751: Hunter describes described being s...</td>\n      <td>48.25422</td>\n      <td>-101.31660</td>\n      <td>2000-04-21</td>\n      <td>751.0</td>\n      <td>...</td>\n      <td>0.60</td>\n      <td>NaN</td>\n      <td>NaN</td>\n      <td>rain</td>\n      <td>1011.47</td>\n      <td>Partly cloudy until evening.</td>\n      <td>6.0</td>\n      <td>10.00</td>\n      <td>237.0</td>\n      <td>11.14</td>\n    </tr>\n  </tbody>\n</table>\n<p>5 rows × 28 columns</p>\n</div>"
     },
     "metadata": {},
     "execution_count": 12
    }
   ],
   "source": [
    "import json\n",
    "import pandas as pd\n",
    "\n",
    "file = 'Bigfoot'\n",
    "filepath = f'../Data/{file}.csv'\n",
    "\n",
    "data = pd.read_csv(filepath)\n",
    "\n",
    "data.head()"
   ]
  },
  {
   "cell_type": "code",
   "execution_count": 24,
   "metadata": {},
   "outputs": [
    {
     "output_type": "execute_result",
     "data": {
      "text/plain": [
       "   index                                           observed  \\\n",
       "0      2  I was on my way to Claremont from Lebanon on R...   \n",
       "1     19  I am 45 years old, have spent my whole life in...   \n",
       "2     24  I was hiking in the woods, doing occasional wh...   \n",
       "3     33  It was August of 1977 and I had missed my ride...   \n",
       "4     58  Since October I have had many howls, wood knoc...   \n",
       "\n",
       "                                    location_details            county  \\\n",
       "0  Close to Claremont down 120 not far from Kings...   Sullivan County   \n",
       "1  Leominster state forest, back side of No Town ...  Worcester County   \n",
       "2   Vaughn Woods State Park in South Berwick, Maine.       York County   \n",
       "3  Waterloo Road, near the Sussex - Warren County...     Warren County   \n",
       "4  Take Hwy.471 to Dartigo Rd. to the Church of G...      Grant Parish   \n",
       "\n",
       "           state  season                                              title  \\\n",
       "0  New Hampshire  Summer  Report 55269: Dawn sighting at Stevens Brook o...   \n",
       "1  Massachusetts  Summer  Report 28017: Hikers observe and cast possible...   \n",
       "2          Maine  Winter  Report 56798: Possible track way found in the ...   \n",
       "3     New Jersey  Summer  Report 49883: Recollection of a possible late ...   \n",
       "4      Louisiana  Winter  Report 56576: Homeowner describes ongoing acti...   \n",
       "\n",
       "   latitude  longitude        date  ...  moon_phase precip_intensity  \\\n",
       "0  43.41549  -72.33093  2016-06-07  ...        0.10           0.0010   \n",
       "1  42.54334  -71.80123  2010-11-08  ...        0.09           0.0195   \n",
       "2  43.20450  -70.81187  2017-02-14  ...        0.63           0.0006   \n",
       "3  40.89452  -74.79077  2015-10-02  ...        0.67           0.0092   \n",
       "4  31.36800  -92.42200  2017-01-21  ...        0.80           0.0106   \n",
       "\n",
       "  precip_probability  precip_type  pressure  \\\n",
       "0               0.70         rain    998.87   \n",
       "1               0.98         rain   1000.84   \n",
       "2               0.31         snow   1009.95   \n",
       "3               0.99         rain   1022.92   \n",
       "4               0.80         rain   1001.69   \n",
       "\n",
       "                                    summary  uv_index  visibility  \\\n",
       "0         Mostly cloudy throughout the day.       6.0        9.70   \n",
       "1                      Rain in the morning.       2.0        6.70   \n",
       "2                       Overcast overnight.       3.0        9.94   \n",
       "3     Light rain starting in the afternoon.       3.0        9.16   \n",
       "4  Mostly cloudy starting in the afternoon.       4.0        8.11   \n",
       "\n",
       "   wind_bearing  wind_speed  \n",
       "0         262.0        0.49  \n",
       "1         345.0        3.48  \n",
       "2         235.0        0.48  \n",
       "3          45.0        2.87  \n",
       "4         156.0        2.22  \n",
       "\n",
       "[5 rows x 29 columns]"
      ],
      "text/html": "<div>\n<style scoped>\n    .dataframe tbody tr th:only-of-type {\n        vertical-align: middle;\n    }\n\n    .dataframe tbody tr th {\n        vertical-align: top;\n    }\n\n    .dataframe thead th {\n        text-align: right;\n    }\n</style>\n<table border=\"1\" class=\"dataframe\">\n  <thead>\n    <tr style=\"text-align: right;\">\n      <th></th>\n      <th>index</th>\n      <th>observed</th>\n      <th>location_details</th>\n      <th>county</th>\n      <th>state</th>\n      <th>season</th>\n      <th>title</th>\n      <th>latitude</th>\n      <th>longitude</th>\n      <th>date</th>\n      <th>...</th>\n      <th>moon_phase</th>\n      <th>precip_intensity</th>\n      <th>precip_probability</th>\n      <th>precip_type</th>\n      <th>pressure</th>\n      <th>summary</th>\n      <th>uv_index</th>\n      <th>visibility</th>\n      <th>wind_bearing</th>\n      <th>wind_speed</th>\n    </tr>\n  </thead>\n  <tbody>\n    <tr>\n      <th>0</th>\n      <td>2</td>\n      <td>I was on my way to Claremont from Lebanon on R...</td>\n      <td>Close to Claremont down 120 not far from Kings...</td>\n      <td>Sullivan County</td>\n      <td>New Hampshire</td>\n      <td>Summer</td>\n      <td>Report 55269: Dawn sighting at Stevens Brook o...</td>\n      <td>43.41549</td>\n      <td>-72.33093</td>\n      <td>2016-06-07</td>\n      <td>...</td>\n      <td>0.10</td>\n      <td>0.0010</td>\n      <td>0.70</td>\n      <td>rain</td>\n      <td>998.87</td>\n      <td>Mostly cloudy throughout the day.</td>\n      <td>6.0</td>\n      <td>9.70</td>\n      <td>262.0</td>\n      <td>0.49</td>\n    </tr>\n    <tr>\n      <th>1</th>\n      <td>19</td>\n      <td>I am 45 years old, have spent my whole life in...</td>\n      <td>Leominster state forest, back side of No Town ...</td>\n      <td>Worcester County</td>\n      <td>Massachusetts</td>\n      <td>Summer</td>\n      <td>Report 28017: Hikers observe and cast possible...</td>\n      <td>42.54334</td>\n      <td>-71.80123</td>\n      <td>2010-11-08</td>\n      <td>...</td>\n      <td>0.09</td>\n      <td>0.0195</td>\n      <td>0.98</td>\n      <td>rain</td>\n      <td>1000.84</td>\n      <td>Rain in the morning.</td>\n      <td>2.0</td>\n      <td>6.70</td>\n      <td>345.0</td>\n      <td>3.48</td>\n    </tr>\n    <tr>\n      <th>2</th>\n      <td>24</td>\n      <td>I was hiking in the woods, doing occasional wh...</td>\n      <td>Vaughn Woods State Park in South Berwick, Maine.</td>\n      <td>York County</td>\n      <td>Maine</td>\n      <td>Winter</td>\n      <td>Report 56798: Possible track way found in the ...</td>\n      <td>43.20450</td>\n      <td>-70.81187</td>\n      <td>2017-02-14</td>\n      <td>...</td>\n      <td>0.63</td>\n      <td>0.0006</td>\n      <td>0.31</td>\n      <td>snow</td>\n      <td>1009.95</td>\n      <td>Overcast overnight.</td>\n      <td>3.0</td>\n      <td>9.94</td>\n      <td>235.0</td>\n      <td>0.48</td>\n    </tr>\n    <tr>\n      <th>3</th>\n      <td>33</td>\n      <td>It was August of 1977 and I had missed my ride...</td>\n      <td>Waterloo Road, near the Sussex - Warren County...</td>\n      <td>Warren County</td>\n      <td>New Jersey</td>\n      <td>Summer</td>\n      <td>Report 49883: Recollection of a possible late ...</td>\n      <td>40.89452</td>\n      <td>-74.79077</td>\n      <td>2015-10-02</td>\n      <td>...</td>\n      <td>0.67</td>\n      <td>0.0092</td>\n      <td>0.99</td>\n      <td>rain</td>\n      <td>1022.92</td>\n      <td>Light rain starting in the afternoon.</td>\n      <td>3.0</td>\n      <td>9.16</td>\n      <td>45.0</td>\n      <td>2.87</td>\n    </tr>\n    <tr>\n      <th>4</th>\n      <td>58</td>\n      <td>Since October I have had many howls, wood knoc...</td>\n      <td>Take Hwy.471 to Dartigo Rd. to the Church of G...</td>\n      <td>Grant Parish</td>\n      <td>Louisiana</td>\n      <td>Winter</td>\n      <td>Report 56576: Homeowner describes ongoing acti...</td>\n      <td>31.36800</td>\n      <td>-92.42200</td>\n      <td>2017-01-21</td>\n      <td>...</td>\n      <td>0.80</td>\n      <td>0.0106</td>\n      <td>0.80</td>\n      <td>rain</td>\n      <td>1001.69</td>\n      <td>Mostly cloudy starting in the afternoon.</td>\n      <td>4.0</td>\n      <td>8.11</td>\n      <td>156.0</td>\n      <td>2.22</td>\n    </tr>\n  </tbody>\n</table>\n<p>5 rows × 29 columns</p>\n</div>"
     },
     "metadata": {},
     "execution_count": 24
    }
   ],
   "source": [
    "cleandata = data.dropna()\n",
    "cleandata = cleandata.reset_index()\n",
    "\n",
    "cleandata.head()"
   ]
  },
  {
   "cell_type": "code",
   "execution_count": 25,
   "metadata": {},
   "outputs": [],
   "source": [
    "cleandata.to_json(f'../Data/json/{file}.json', orient='index')"
   ]
  },
  {
   "cell_type": "code",
   "execution_count": null,
   "metadata": {},
   "outputs": [],
   "source": []
  }
 ]
}